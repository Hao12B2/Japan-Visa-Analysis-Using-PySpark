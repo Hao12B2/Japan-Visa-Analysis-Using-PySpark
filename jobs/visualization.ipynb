{
 "cells": [
  {
   "cell_type": "code",
   "execution_count": 1,
   "metadata": {},
   "outputs": [],
   "source": [
    "import findspark\n",
    "findspark.init()"
   ]
  },
  {
   "cell_type": "code",
   "execution_count": 3,
   "metadata": {},
   "outputs": [],
   "source": [
    "import pyspark\n",
    "from pyspark.sql import SparkSession\n",
    "from pyspark.sql.functions import udf, col\n",
    "from pyspark.sql.types import StringType\n",
    "import pycountry\n",
    "from fuzzywuzzy import process\n",
    "import pycountry_convert as pcc\n",
    "import pandas as pd \n",
    "import plotly.express as px\n",
    "\n",
    "spark = SparkSession.builder.appName('End to end processing').getOrCreate()\n",
    "\n",
    "df = spark.read.csv('D:/OneDrive-QuangNgai/Python_Programming/data-engineering/input/visa_number_in_japan.csv', header=True, inferSchema=True)"
   ]
  },
  {
   "cell_type": "code",
   "execution_count": 4,
   "metadata": {},
   "outputs": [
    {
     "name": "stdout",
     "output_type": "stream",
     "text": [
      "root\n",
      " |-- Year: integer (nullable = true)\n",
      " |-- Regional code: integer (nullable = true)\n",
      " |-- Country: string (nullable = true)\n",
      " |-- Number of issued: integer (nullable = true)\n",
      " |-- Number of issued_numerical: integer (nullable = true)\n",
      " |-- Travel certificate: integer (nullable = true)\n",
      " |-- Diplomacy: integer (nullable = true)\n",
      " |-- Public use: integer (nullable = true)\n",
      " |-- Passing: integer (nullable = true)\n",
      " |-- Short -term stay: integer (nullable = true)\n",
      " |-- Staying in medical care: integer (nullable = true)\n",
      " |-- Advanced profession: integer (nullable = true)\n",
      " |-- Employment: integer (nullable = true)\n",
      " |-- Employment_Professor: integer (nullable = true)\n",
      " |-- Employment_Art: integer (nullable = true)\n",
      " |-- Employment_religion: integer (nullable = true)\n",
      " |-- Employment_Report: integer (nullable = true)\n",
      " |-- Employment_Management / Management: integer (nullable = true)\n",
      " |-- Employment_Law accounting: integer (nullable = true)\n",
      " |-- Employment_Medical care: integer (nullable = true)\n",
      " |-- Employment_Research: integer (nullable = true)\n",
      " |-- Employment_Education: integer (nullable = true)\n",
      " |-- Employment_Country: integer (nullable = true)\n",
      " |-- Employment_Technology: integer (nullable = true)\n",
      " |-- Employment_Humanities International: integer (nullable = true)\n",
      " |-- Employment_C corporate rotation: integer (nullable = true)\n",
      " |-- Employment_show: integer (nullable = true)\n",
      " |-- Employment_Skills: integer (nullable = true)\n",
      " |-- Employment_Steng (new): integer (nullable = true)\n",
      " |-- Employment_Nursing care: integer (nullable = true)\n",
      " |-- Ordinary: integer (nullable = true)\n",
      " |-- General_Cultural activity: integer (nullable = true)\n",
      " |-- General_Studying abroad: integer (nullable = true)\n",
      " |-- General_Arademy: integer (nullable = true)\n",
      " |-- General_Training: integer (nullable = true)\n",
      " |-- General_Family stay: integer (nullable = true)\n",
      " |-- General_Stifying 1 I: integer (nullable = true)\n",
      " |-- General_Steng 1: integer (nullable = true)\n",
      " |-- identification: integer (nullable = true)\n",
      " |-- Specific_housework employee: integer (nullable = true)\n",
      " |-- Specified_short term: integer (nullable = true)\n",
      " |-- Specific_profit representative staff: integer (nullable = true)\n",
      " |-- Specific_working holiday: integer (nullable = true)\n",
      " |-- Specified_Amasport: integer (nullable = true)\n",
      " |-- Specific_Japanese spouse, etc.: integer (nullable = true)\n",
      " |-- Specific_Permanent resident's spouse, etc.: integer (nullable = true)\n",
      " |-- Specified_Distingant: integer (nullable = true)\n",
      " |-- Specific_Others: integer (nullable = true)\n",
      "\n"
     ]
    }
   ],
   "source": [
    "df.printSchema()"
   ]
  },
  {
   "cell_type": "code",
   "execution_count": 5,
   "metadata": {},
   "outputs": [],
   "source": [
    "new_column_names = [\n",
    "    col_name.replace(' ', '_')\n",
    "    .replace('/', '')\n",
    "    .replace('.', '')\n",
    "    .replace(',', '')\n",
    "    for col_name in df.columns\n",
    "]"
   ]
  },
  {
   "cell_type": "code",
   "execution_count": 6,
   "metadata": {},
   "outputs": [
    {
     "name": "stdout",
     "output_type": "stream",
     "text": [
      "root\n",
      " |-- Year: integer (nullable = true)\n",
      " |-- Regional_code: integer (nullable = true)\n",
      " |-- Country: string (nullable = true)\n",
      " |-- Number_of_issued: integer (nullable = true)\n",
      " |-- Number_of_issued_numerical: integer (nullable = true)\n",
      " |-- Travel_certificate: integer (nullable = true)\n",
      " |-- Diplomacy: integer (nullable = true)\n",
      " |-- Public_use: integer (nullable = true)\n",
      " |-- Passing: integer (nullable = true)\n",
      " |-- Short_-term_stay: integer (nullable = true)\n",
      " |-- Staying_in_medical_care: integer (nullable = true)\n",
      " |-- Advanced_profession: integer (nullable = true)\n",
      " |-- Employment: integer (nullable = true)\n",
      " |-- Employment_Professor: integer (nullable = true)\n",
      " |-- Employment_Art: integer (nullable = true)\n",
      " |-- Employment_religion: integer (nullable = true)\n",
      " |-- Employment_Report: integer (nullable = true)\n",
      " |-- Employment_Management__Management: integer (nullable = true)\n",
      " |-- Employment_Law_accounting: integer (nullable = true)\n",
      " |-- Employment_Medical_care: integer (nullable = true)\n",
      " |-- Employment_Research: integer (nullable = true)\n",
      " |-- Employment_Education: integer (nullable = true)\n",
      " |-- Employment_Country: integer (nullable = true)\n",
      " |-- Employment_Technology: integer (nullable = true)\n",
      " |-- Employment_Humanities_International: integer (nullable = true)\n",
      " |-- Employment_C_corporate_rotation: integer (nullable = true)\n",
      " |-- Employment_show: integer (nullable = true)\n",
      " |-- Employment_Skills: integer (nullable = true)\n",
      " |-- Employment_Steng_(new): integer (nullable = true)\n",
      " |-- Employment_Nursing_care: integer (nullable = true)\n",
      " |-- Ordinary: integer (nullable = true)\n",
      " |-- General_Cultural_activity: integer (nullable = true)\n",
      " |-- General_Studying_abroad: integer (nullable = true)\n",
      " |-- General_Arademy: integer (nullable = true)\n",
      " |-- General_Training: integer (nullable = true)\n",
      " |-- General_Family_stay: integer (nullable = true)\n",
      " |-- General_Stifying_1_I: integer (nullable = true)\n",
      " |-- General_Steng_1: integer (nullable = true)\n",
      " |-- identification: integer (nullable = true)\n",
      " |-- Specific_housework_employee: integer (nullable = true)\n",
      " |-- Specified_short_term: integer (nullable = true)\n",
      " |-- Specific_profit_representative_staff: integer (nullable = true)\n",
      " |-- Specific_working_holiday: integer (nullable = true)\n",
      " |-- Specified_Amasport: integer (nullable = true)\n",
      " |-- Specific_Japanese_spouse_etc: integer (nullable = true)\n",
      " |-- Specific_Permanent_resident's_spouse_etc: integer (nullable = true)\n",
      " |-- Specified_Distingant: integer (nullable = true)\n",
      " |-- Specific_Others: integer (nullable = true)\n",
      "\n"
     ]
    }
   ],
   "source": [
    "df = df.toDF(*new_column_names)\n",
    "df.printSchema()"
   ]
  },
  {
   "cell_type": "code",
   "execution_count": 7,
   "metadata": {},
   "outputs": [
    {
     "name": "stdout",
     "output_type": "stream",
     "text": [
      "+----+-------------+---------------+----------------+--------------------------+------------------+---------+----------+-------+----------------+-----------------------+-------------------+----------+--------------------+--------------+-------------------+-----------------+---------------------------------+-------------------------+-----------------------+-------------------+--------------------+------------------+---------------------+-----------------------------------+-------------------------------+---------------+-----------------+----------------------+-----------------------+--------+-------------------------+-----------------------+---------------+----------------+-------------------+--------------------+---------------+--------------+---------------------------+--------------------+------------------------------------+------------------------+------------------+----------------------------+----------------------------------------+--------------------+---------------+\n",
      "|Year|Regional_code|        Country|Number_of_issued|Number_of_issued_numerical|Travel_certificate|Diplomacy|Public_use|Passing|Short_-term_stay|Staying_in_medical_care|Advanced_profession|Employment|Employment_Professor|Employment_Art|Employment_religion|Employment_Report|Employment_Management__Management|Employment_Law_accounting|Employment_Medical_care|Employment_Research|Employment_Education|Employment_Country|Employment_Technology|Employment_Humanities_International|Employment_C_corporate_rotation|Employment_show|Employment_Skills|Employment_Steng_(new)|Employment_Nursing_care|Ordinary|General_Cultural_activity|General_Studying_abroad|General_Arademy|General_Training|General_Family_stay|General_Stifying_1_I|General_Steng_1|identification|Specific_housework_employee|Specified_short_term|Specific_profit_representative_staff|Specific_working_holiday|Specified_Amasport|Specific_Japanese_spouse_etc|Specific_Permanent_resident's_spouse_etc|Specified_Distingant|Specific_Others|\n",
      "+----+-------------+---------------+----------------+--------------------------+------------------+---------+----------+-------+----------------+-----------------------+-------------------+----------+--------------------+--------------+-------------------+-----------------+---------------------------------+-------------------------+-----------------------+-------------------+--------------------+------------------+---------------------+-----------------------------------+-------------------------------+---------------+-----------------+----------------------+-----------------------+--------+-------------------------+-----------------------+---------------+----------------+-------------------+--------------------+---------------+--------------+---------------------------+--------------------+------------------------------------+------------------------+------------------+----------------------------+----------------------------------------+--------------------+---------------+\n",
      "|2017|            0|          total|         5869012|                    741415|               389|     4862|     16402|   8518|         5392838|                   1383|                409|     91335|                2962|           389|                973|               85|                             1704|                        5|                     62|                389|                3014|             25857|                 NULL|                               NULL|                           8924|          41606|             3581|                  1782|                      2|  299712|                     3377|                 122843|           NULL|           16513|              27375|                7477|         122127|         53552|                        122|                NULL|                                  49|                   15521|                77|                       10227|                                    2181|               16945|           8431|\n",
      "|2017|           40|    Afghanistan|            1005|                        46|                 0|       14|       112|      0|             224|                      0|                  0|        38|                   0|             0|                  0|                0|                                0|                        0|                      0|                  0|                   0|                37|                 NULL|                               NULL|                              0|              0|                1|                     0|                      0|     604|                        1|                     66|           NULL|             248|                289|                   0|              0|            13|                          0|                NULL|                                   0|                       0|                 0|                           2|                                       3|                   8|              0|\n",
      "|2017|           80|        Albania|             252|                         7|                 0|        0|         2|      1|             200|                      0|                  0|         8|                   1|             0|                  0|                0|                                0|                        0|                      0|                  0|                   0|                 2|                 NULL|                               NULL|                              1|              2|                2|                     0|                      0|      41|                        4|                      9|           NULL|              27|                  1|                   0|              0|             0|                          0|                NULL|                                   0|                       0|                 0|                           0|                                       0|                   0|              0|\n",
      "|2017|          120|        Algeria|             899|                        19|                 0|        8|        11|      3|             813|                      0|                  0|        25|                   2|             0|                  0|                0|                                0|                        0|                      0|                  0|                   0|                22|                 NULL|                               NULL|                              0|              1|                0|                     0|                      0|      37|                        2|                     14|           NULL|              13|                  8|                   0|              0|             2|                          0|                NULL|                                   0|                       0|                 0|                           1|                                       1|                   0|              0|\n",
      "|2017|          200|          Andra|               5|                         0|                 0|        0|         0|      0|               0|                      0|                  0|         3|                   0|             0|                  0|                0|                                0|                        0|                      0|                  0|                   0|                 0|                 NULL|                               NULL|                              0|              2|                1|                     0|                      0|       2|                        0|                      2|           NULL|               0|                  0|                   0|              0|             0|                          0|                NULL|                                   0|                       0|                 0|                           0|                                       0|                   0|              0|\n",
      "|2017|          240|         Angola|             111|                        12|                75|        9|         7|      0|              67|                      0|                  0|         0|                   0|             0|                  0|                0|                                0|                        0|                      0|                  0|                   0|                 0|                 NULL|                               NULL|                              0|              0|                0|                     0|                      0|      28|                        0|                      3|           NULL|              25|                  0|                   0|              0|             0|                          0|                NULL|                                   0|                       0|                 0|                           0|                                       0|                   0|              0|\n",
      "|2017|          280|Antigua Berbuda|              41|                         8|                 0|        1|         0|      0|              28|                      0|                  0|         0|                   0|             0|                  0|                0|                                0|                        0|                      0|                  0|                   0|                 0|                 NULL|                               NULL|                              0|              0|                0|                     0|                      0|      12|                        0|                      0|           NULL|              12|                  0|                   0|              0|             0|                          0|                NULL|                                   0|                       0|                 0|                           0|                                       0|                   0|              0|\n",
      "|2017|          310|     Azerbaijan|             619|                         8|                 0|       31|        20|      0|             505|                      0|                  1|        14|                   2|             0|                  0|                1|                                0|                        0|                      0|                  0|                   0|                 6|                 NULL|                               NULL|                              1|              4|                0|                     0|                      0|      46|                        1|                     22|           NULL|              22|                  1|                   0|              0|             2|                          0|                NULL|                                   0|                       0|                 0|                           1|                                       1|                   0|              0|\n",
      "|2017|          320|      Argentina|             450|                         0|                 0|        0|         1|      0|               0|                      0|                  0|       209|                   3|            44|                  2|                0|                                0|                        0|                      0|                  0|                   0|                 6|                 NULL|                               NULL|                              5|            129|               20|                     0|                      0|     147|                       11|                     33|           NULL|              85|                 13|                   5|              0|            93|                          0|                NULL|                                   0|                      45|                 0|                          19|                                       2|                  25|              2|\n",
      "|2017|          360|      Australia|            3887|                       281|                 0|       54|       220|      0|               5|                      0|                  8|      1501|                  86|             6|                 22|                3|                               33|                        0|                      0|                  9|                 210|               286|                 NULL|                               NULL|                             40|            692|              114|                     0|                      0|     758|                       21|                    586|           NULL|              21|                130|                   0|              0|          1341|                          0|                NULL|                                   0|                    1182|                21|                         114|                                       4|                   2|             18|\n",
      "+----+-------------+---------------+----------------+--------------------------+------------------+---------+----------+-------+----------------+-----------------------+-------------------+----------+--------------------+--------------+-------------------+-----------------+---------------------------------+-------------------------+-----------------------+-------------------+--------------------+------------------+---------------------+-----------------------------------+-------------------------------+---------------+-----------------+----------------------+-----------------------+--------+-------------------------+-----------------------+---------------+----------------+-------------------+--------------------+---------------+--------------+---------------------------+--------------------+------------------------------------+------------------------+------------------+----------------------------+----------------------------------------+--------------------+---------------+\n",
      "only showing top 10 rows\n",
      "\n"
     ]
    }
   ],
   "source": [
    "df = df.dropna(how='all')\n",
    "df.show(10)"
   ]
  },
  {
   "cell_type": "code",
   "execution_count": 8,
   "metadata": {},
   "outputs": [
    {
     "name": "stdout",
     "output_type": "stream",
     "text": [
      "+----+-----------------+--------------------------+\n",
      "|year|          country|number_of_issued_numerical|\n",
      "+----+-----------------+--------------------------+\n",
      "|2017|            total|                    741415|\n",
      "|2017|      Afghanistan|                        46|\n",
      "|2017|          Albania|                         7|\n",
      "|2017|          Algeria|                        19|\n",
      "|2017|            Andra|                         0|\n",
      "|2017|           Angola|                        12|\n",
      "|2017|  Antigua Berbuda|                         8|\n",
      "|2017|       Azerbaijan|                         8|\n",
      "|2017|        Argentina|                         0|\n",
      "|2017|        Australia|                       281|\n",
      "|2017|          Austria|                         0|\n",
      "|2017|          Bahamas|                         0|\n",
      "|2017|          Barrane|                        59|\n",
      "|2017|       Bangladesh|                       159|\n",
      "|2017|          Armenia|                         3|\n",
      "|2017|         Barbados|                         0|\n",
      "|2017|          Belgium|                         2|\n",
      "|2017|           Bhutan|                       148|\n",
      "|2017|          Bolivia|                        35|\n",
      "|2017|Bosnia Herzegovna|                         5|\n",
      "+----+-----------------+--------------------------+\n",
      "only showing top 20 rows\n",
      "\n"
     ]
    }
   ],
   "source": [
    "df1 = df.select('year', 'country', 'number_of_issued_numerical')\n",
    "df1.show()"
   ]
  },
  {
   "cell_type": "code",
   "execution_count": 9,
   "metadata": {},
   "outputs": [],
   "source": [
    "def correct_country_name(name, threshold=10):\n",
    "    countries = [country.name for country in pycountry.countries]\n",
    "    corrected_name, score = process.extractOne(name, countries)\n",
    "    \n",
    "    if score >= threshold:\n",
    "        return corrected_name\n",
    "    \n",
    "    return name\n",
    "\n",
    "\n",
    "correct_country_name_udf = udf(correct_country_name, StringType())\n",
    "\n",
    "df1 = df1.withColumn('correctted_country', correct_country_name_udf(col('country')))\n",
    "df1 = df1.select(*df1.columns)\n"
   ]
  },
  {
   "cell_type": "code",
   "execution_count": 10,
   "metadata": {},
   "outputs": [
    {
     "name": "stdout",
     "output_type": "stream",
     "text": [
      "+----+---------------+--------------------------+-------------------+\n",
      "|year|country        |number_of_issued_numerical|correctted_country |\n",
      "+----+---------------+--------------------------+-------------------+\n",
      "|2017|total          |741415                    |Portugal           |\n",
      "|2017|Afghanistan    |46                        |Afghanistan        |\n",
      "|2017|Albania        |7                         |Albania            |\n",
      "|2017|Algeria        |19                        |Algeria            |\n",
      "|2017|Andra          |0                         |Andorra            |\n",
      "|2017|Angola         |12                        |Angola             |\n",
      "|2017|Antigua Berbuda|8                         |Antigua and Barbuda|\n",
      "|2017|Azerbaijan     |8                         |Azerbaijan         |\n",
      "|2017|Argentina      |0                         |Argentina          |\n",
      "|2017|Australia      |281                       |Australia          |\n",
      "+----+---------------+--------------------------+-------------------+\n",
      "only showing top 10 rows\n",
      "\n"
     ]
    }
   ],
   "source": [
    "df1.show(10, False)"
   ]
  },
  {
   "cell_type": "markdown",
   "metadata": {},
   "source": [
    "If you encountered an error with <b>show()</b> method, please change permission on folder <b>anaconda3</b>"
   ]
  },
  {
   "cell_type": "code",
   "execution_count": 11,
   "metadata": {},
   "outputs": [
    {
     "name": "stdout",
     "output_type": "stream",
     "text": [
      "root\n",
      " |-- year: integer (nullable = true)\n",
      " |-- country: string (nullable = true)\n",
      " |-- number_of_issued_numerical: integer (nullable = true)\n",
      " |-- correctted_country: string (nullable = true)\n",
      "\n"
     ]
    }
   ],
   "source": [
    "try:\n",
    "    df1.printSchema()\n",
    "except Exception as e:\n",
    "    print(e.with_traceback)"
   ]
  },
  {
   "cell_type": "code",
   "execution_count": 12,
   "metadata": {},
   "outputs": [],
   "source": [
    "country_corrections = {\n",
    "    'Andra': 'Russia',\n",
    "    'Antigua Berduda': 'Antigua and Barbuda',\n",
    "    'Barrane': 'Bahrain',\n",
    "    'Brush': 'Bhutan',\n",
    "    'Komoro': 'Comoros',\n",
    "    'Benan': 'Benin',\n",
    "    'Kiribass': 'Kiribati',\n",
    "    'Gaiana': 'Guyana',\n",
    "    'Court Jiboire': \"Côte d'Ivoire\",\n",
    "    'Lesot': 'Lesotho',\n",
    "    'Macau travel certificate': 'Macao',\n",
    "    'Moldoba': 'Moldova',\n",
    "    'Naure': 'Nauru',\n",
    "    'Nigail': 'Niger',\n",
    "    'Palao': 'Palau',\n",
    "    'St. Christopher Navis': 'Saint Kitts and Nevis',\n",
    "    'Santa Principa': 'Sao Tome and Principe',\n",
    "    'Saechel': 'Seychelles',\n",
    "    'Slinum': 'Saint Helena',\n",
    "    'Swaji Land': 'Eswatini',\n",
    "    'Torque menistan': 'Turkmenistan',\n",
    "    'Tsubaru': 'Zimbabwe',\n",
    "    'Kosovo': 'Kosovo'\n",
    "}\n",
    "\n",
    "df2 = df1.replace(country_corrections, subset='country')"
   ]
  },
  {
   "cell_type": "code",
   "execution_count": 13,
   "metadata": {},
   "outputs": [],
   "source": [
    "def get_continent_name(country_name):\n",
    "    try:\n",
    "        country_code = pcc.country_name_to_country_alpha2(country_name, cn_name_format='default')\n",
    "        continent_code = pcc.country_alpha2_to_continent_code(country_code)\n",
    "        return pcc.convert_continent_code_to_continent_name(continent_code)\n",
    "    except:\n",
    "        return None\n",
    "\n",
    "continent_df = udf(get_continent_name, StringType())\n",
    "df2 = df2.withColumn('continent', continent_df(df2['country']))\n"
   ]
  },
  {
   "cell_type": "code",
   "execution_count": 14,
   "metadata": {},
   "outputs": [],
   "source": [
    "spark.catalog.dropGlobalTempView(\"japan_visa\")\n",
    "df2.createGlobalTempView('japan_visa')"
   ]
  },
  {
   "cell_type": "code",
   "execution_count": 15,
   "metadata": {},
   "outputs": [],
   "source": [
    "#VISUALISATION\n",
    "df_cont = spark.sql(\"\"\"\n",
    "    SELECT year, continent, sum(number_of_issued_numerical) visa_issued\n",
    "    FROM global_temp.japan_visa\n",
    "    WHERE continent IS NOT NULL\n",
    "    GROUP BY year, continent\n",
    "\"\"\")\n",
    "\n",
    "df_cont_pd = df_cont.toPandas()\n",
    "\n",
    "fig = px.bar(df_cont_pd, x='year', y='visa_issued', color='continent')\n",
    "\n",
    "fig.update_layout(title_text=\"Number of visa issued in Japan between 2006 and 2017\",\n",
    "             xaxis_title='Year',\n",
    "             yaxis_title='Number of visa issued',\n",
    "             legend_title='Continent')\n",
    "\n",
    "fig.write_html('visa_number_in_japan_continent_2006_2017.html')\n"
   ]
  },
  {
   "cell_type": "code",
   "execution_count": 16,
   "metadata": {},
   "outputs": [],
   "source": [
    "df_country = spark.sql(\"\"\"\n",
    "    SELECT country, sum(number_of_issued_numerical) visa_issued\n",
    "    FROM global_temp.japan_visa\n",
    "    WHERE country NOT IN ('total', 'others')\n",
    "    AND country IS NOT NULL\n",
    "    AND year = 2017\n",
    "    GROUP BY country\n",
    "    order by visa_issued DESC\n",
    "    LIMIT 10\n",
    "\"\"\")\n",
    "\n",
    "df_country_pd = df_country.toPandas()\n",
    "\n",
    "fig = px.bar(df_country_pd, x = 'country', y = 'visa_issued', color = 'country')\n",
    "\n",
    "fig.update_layout(title_text=\"Top 10 countries with most issued visa in 2017\",\n",
    "                  xaxis_title='Country',\n",
    "                  yaxis_title='Number of visa issued',\n",
    "                  legend_title='Country')\n",
    "\n",
    "fig.write_html('visa_number_in_japan_by_country_2017.html')"
   ]
  }
 ],
 "metadata": {
  "kernelspec": {
   "display_name": "base",
   "language": "python",
   "name": "python3"
  },
  "language_info": {
   "codemirror_mode": {
    "name": "ipython",
    "version": 3
   },
   "file_extension": ".py",
   "mimetype": "text/x-python",
   "name": "python",
   "nbconvert_exporter": "python",
   "pygments_lexer": "ipython3",
   "version": "3.11.7"
  }
 },
 "nbformat": 4,
 "nbformat_minor": 2
}
